{
 "cells": [
  {
   "cell_type": "code",
   "execution_count": 1,
   "metadata": {},
   "outputs": [],
   "source": [
    "%reload_ext autoreload\n",
    "%autoreload 2\n",
    "%matplotlib inline\n",
    "\n",
    "from fastai.learner import *\n",
    "\n",
    "import torchtext\n",
    "from torchtext import vocab, data\n",
    "from torchtext.datasets import language_modeling\n",
    "\n",
    "from fastai.rnn_reg import *\n",
    "from fastai.rnn_train import *\n",
    "from fastai.nlp import *\n",
    "from fastai.lm_rnn import *\n",
    "\n",
    "import dill as pickle\n",
    "import spacy\n",
    "\n",
    "\n",
    "PATH='/home/wk/myProjects/data/Enron/oper/'\n",
    "\n",
    "TRN_PATH = 'train/'\n",
    "VAL_PATH = 'test/'\n",
    "TRN = f'{PATH}{TRN_PATH}'\n",
    "VAL = f'{PATH}{VAL_PATH}'\n",
    "\n",
    "bs=32; bptt=75\n",
    "em_sz = 300  # size of each embedding vector\n",
    "nh = 500     # number of hidden activations per layer\n",
    "nl = 3       # number of layers\n",
    "\n",
    "FILES = dict(train=TRN_PATH, validation=VAL_PATH, test=VAL_PATH)\n",
    "TEXT = pickle.load(open(f'{PATH}models/TEXT.pkl','rb'))\n",
    "\n",
    "md = LanguageModelData.from_text_files(PATH, TEXT, **FILES, bs=bs, bptt=bptt, min_freq=10)\n",
    "\n",
    "opt_fn = partial(optim.Adam, betas=(0.7, 0.99))\n",
    "learner = md.get_model(opt_fn, em_sz, nh, nl,\n",
    "               dropouti=0.05, dropout=0.05, wdrop=0.1, dropoute=0.02, dropouth=0.05)\n",
    "learner.reg_fn = partial(seq2seq_reg, alpha=2, beta=1)\n",
    "learner.clip=0.3\n",
    "\n",
    "learner.load_encoder('adam3_10_enc')"
   ]
  },
  {
   "cell_type": "code",
   "execution_count": 2,
   "metadata": {},
   "outputs": [],
   "source": [
    "#PATH=Path('/home/wk/myProjects/data/Enron/tag/')"
   ]
  },
  {
   "cell_type": "code",
   "execution_count": 3,
   "metadata": {},
   "outputs": [],
   "source": [
    "#[str(i) for i in PATH.iterdir()]\n",
    "#PATH/'here.txt'.open()"
   ]
  },
  {
   "cell_type": "code",
   "execution_count": 4,
   "metadata": {},
   "outputs": [
    {
     "data": {
      "text/plain": [
       "'message-id: <5668764.1075845986267.javamail.evans@thyme> date: thu, 15 feb 2001 06:30:00 -0800 (pst) from: kay.mann@enron.com to: kathleen.carnahan@enron.com subject: re: form ca for selling power projects cc: carlos.sole@enron.com mime-version: 1.0 content-type: text/plain; charset=us-ascii content-transfer-encoding: 7bit bcc: carlos.sole@enron.com x-from: kay mann x-to: kathleen carnahan x-cc: carlos sole x-bcc: x-folder: \\\\kay_mann_june2001_3\\\\notes folders\\\\sent x-origin: mann-k x-filename: kmann.nsf yes. from: kathleen carnahan 02/15/2001 02:04 pm to: kay mann/corp/enron@enron cc: carlos sole/na/enron@enron subject: re: form ca for selling power projects and so am i! did you add your changes to it yet? kathleen kay mann 02/15/2001 02:02 pm to: kathleen carnahan/na/enron@enron, carlos sole/na/enron@enron cc: subject: form ca for selling power projects i set up a directory called \"confidentiality agreements\" and put a form in there based on what kc sent me. i\\'m so proud of myself.'"
      ]
     },
     "execution_count": 4,
     "metadata": {},
     "output_type": "execute_result"
    }
   ],
   "source": [
    "### Test\n",
    "ss=r\"\"\"\n",
    "Message-ID: <5668764.1075845986267.JavaMail.evans@thyme>\n",
    "Date: Thu, 15 Feb 2001 06:30:00 -0800 (PST)\n",
    "From: kay.mann@enron.com\n",
    "To: kathleen.carnahan@enron.com\n",
    "Subject: Re: Form CA for selling power projects\n",
    "Cc: carlos.sole@enron.com\n",
    "Mime-Version: 1.0\n",
    "Content-Type: text/plain; charset=us-ascii\n",
    "Content-Transfer-Encoding: 7bit\n",
    "Bcc: carlos.sole@enron.com\n",
    "X-From: Kay Mann\n",
    "X-To: Kathleen Carnahan\n",
    "X-cc: Carlos Sole\n",
    "X-bcc: \n",
    "X-Folder: \\Kay_Mann_June2001_3\\Notes Folders\\Sent\n",
    "X-Origin: MANN-K\n",
    "X-FileName: kmann.nsf\n",
    "\n",
    "Yes.\n",
    "\n",
    "\n",
    "   \n",
    "\t\n",
    "\t\n",
    "\tFrom:  Kathleen Carnahan                           02/15/2001 02:04 PM\n",
    "\t\n",
    "\n",
    "To: Kay Mann/Corp/Enron@Enron\n",
    "cc: Carlos Sole/NA/Enron@Enron \n",
    "\n",
    "Subject: Re: Form CA for selling power projects  \n",
    "\n",
    "And so am I!  Did you add your changes to it yet?\n",
    "\n",
    "Kathleen\n",
    "\n",
    "\n",
    "\n",
    "Kay Mann\n",
    "02/15/2001 02:02 PM\n",
    "To: Kathleen Carnahan/NA/Enron@Enron, Carlos Sole/NA/Enron@Enron\n",
    "cc:  \n",
    "\n",
    "Subject: Form CA for selling power projects\n",
    "\n",
    "I set up a directory called \"Confidentiality Agreements\" and put a form in \n",
    "there based on what KC sent me.\n",
    "\n",
    "I'm so proud of myself.\n",
    "\n",
    "\n",
    "\n",
    "\n",
    "\"\"\"\n",
    "s = [TEXT.preprocess(ss)] \n",
    "t=TEXT.numericalize(s)\n",
    "' '.join(s[0])"
   ]
  },
  {
   "cell_type": "code",
   "execution_count": 5,
   "metadata": {},
   "outputs": [
    {
     "name": "stdout",
     "output_type": "stream",
     "text": [
      "pos=11; @@email@@ <- kay.mann@enron.com \n",
      "pos=34; @@firstname@@ <- kay \n",
      "pos=35; @@lastname@@ <- mann \n",
      "pos=58; @@firstname@@ <- kay \n",
      "pos=59; @@lastname@@ <- mann/corp/enron@enron \n",
      "pos=71; @@firstname@@, <- and \n",
      "pos=84; @@firstname@@ <- kay \n",
      "pos=85; @@lastname@@ <- mann \n",
      "...\n"
     ]
    }
   ],
   "source": [
    "import copy\n",
    "ss = copy.deepcopy(s)\n",
    "s_p = [ss[0][0:3]]\n",
    "t=TEXT.numericalize(s)\n",
    "#t = t.long().cpu()\n",
    "\n",
    "m=learner.model\n",
    "\n",
    "m[0].bs=1\n",
    "m.eval()\n",
    "m.reset()\n",
    "\n",
    "#m.cpu()\n",
    "#m.cuda()\n",
    "res,*_ = m(t)\n",
    "\n",
    "nexts = torch.topk(res[-1], 10)[1]\n",
    "\n",
    "for i in range(len(s[0])-3):\n",
    "    n=res[-1].topk(2)[1]    \n",
    "    predict = TEXT.vocab.itos[n.data[0]]    \n",
    "    if (predict[0:2] == '@@'):\n",
    "        print(\"pos=\" + str(i+3) + \"; \" + predict + \" <- \" + s[0][i+3] , end=' \\n')                    \n",
    "        ss[0][i+3]=predict\n",
    "    \n",
    "    s_p = [ss[0][0:i+4]]\n",
    "    t=TEXT.numericalize(s_p)\n",
    "\n",
    "    res,*_ = m(t)    \n",
    "    \n",
    "m[0].bs=bs       \n",
    "print('...')"
   ]
  },
  {
   "cell_type": "code",
   "execution_count": 6,
   "metadata": {},
   "outputs": [
    {
     "ename": "SyntaxError",
     "evalue": "invalid syntax (<ipython-input-6-0979a38a4286>, line 2)",
     "output_type": "error",
     "traceback": [
      "\u001b[0;36m  File \u001b[0;32m\"<ipython-input-6-0979a38a4286>\"\u001b[0;36m, line \u001b[0;32m2\u001b[0m\n\u001b[0;31m    len(s[0])1\u001b[0m\n\u001b[0m             ^\u001b[0m\n\u001b[0;31mSyntaxError\u001b[0m\u001b[0;31m:\u001b[0m invalid syntax\n"
     ]
    }
   ],
   "source": [
    "#https://askubuntu.com/questions/607118/cuda-not-working-after-returning-laptop-from-sleep#750939\n",
    "len(s[0])1"
   ]
  },
  {
   "cell_type": "code",
   "execution_count": null,
   "metadata": {},
   "outputs": [],
   "source": [
    "#sudo rmmod nvidia_uvm\n",
    "#sudo modprobe nvidia_uvm"
   ]
  },
  {
   "cell_type": "code",
   "execution_count": null,
   "metadata": {},
   "outputs": [],
   "source": [
    "#t.long().cpu()"
   ]
  },
  {
   "cell_type": "code",
   "execution_count": null,
   "metadata": {},
   "outputs": [],
   "source": []
  }
 ],
 "metadata": {
  "kernelspec": {
   "display_name": "Python 3",
   "language": "python",
   "name": "python3"
  },
  "language_info": {
   "codemirror_mode": {
    "name": "ipython",
    "version": 3
   },
   "file_extension": ".py",
   "mimetype": "text/x-python",
   "name": "python",
   "nbconvert_exporter": "python",
   "pygments_lexer": "ipython3",
   "version": "3.6.7"
  }
 },
 "nbformat": 4,
 "nbformat_minor": 2
}
