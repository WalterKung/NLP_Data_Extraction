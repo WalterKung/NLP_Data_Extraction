{
 "cells": [
  {
   "cell_type": "code",
   "execution_count": 1,
   "metadata": {},
   "outputs": [],
   "source": [
    "%reload_ext autoreload\n",
    "%autoreload 2\n",
    "%matplotlib inline\n",
    "\n",
    "from fastai.learner import *\n",
    "\n",
    "import torchtext\n",
    "from torchtext import vocab, data\n",
    "from torchtext.datasets import language_modeling\n",
    "\n",
    "from fastai.rnn_reg import *\n",
    "from fastai.rnn_train import *\n",
    "from fastai.nlp import *\n",
    "from fastai.lm_rnn import *\n",
    "\n",
    "import dill as pickle\n",
    "import spacy\n",
    "\n",
    "\n",
    "PATH='/home/wk/myProjects/data/Enron/oper/'\n",
    "\n",
    "TRN_PATH = 'train/'\n",
    "VAL_PATH = 'test/'\n",
    "TRN = f'{PATH}{TRN_PATH}'\n",
    "VAL = f'{PATH}{VAL_PATH}'\n",
    "\n",
    "bs=32; bptt=75\n",
    "em_sz = 300  # size of each embedding vector\n",
    "nh = 500     # number of hidden activations per layer\n",
    "nl = 3       # number of layers\n",
    "\n",
    "FILES = dict(train=TRN_PATH, validation=VAL_PATH, test=VAL_PATH)\n",
    "TEXT = pickle.load(open(f'{PATH}models/TEXT.pkl','rb'))\n",
    "\n",
    "md = LanguageModelData.from_text_files(PATH, TEXT, **FILES, bs=bs, bptt=bptt, min_freq=10)\n",
    "\n",
    "opt_fn = partial(optim.Adam, betas=(0.7, 0.99))\n",
    "learner = md.get_model(opt_fn, em_sz, nh, nl,\n",
    "               dropouti=0.05, dropout=0.05, wdrop=0.1, dropoute=0.02, dropouth=0.05)\n",
    "learner.reg_fn = partial(seq2seq_reg, alpha=2, beta=1)\n",
    "learner.clip=0.3\n",
    "\n",
    "learner.load_encoder('adam3_10_enc')"
   ]
  },
  {
   "cell_type": "code",
   "execution_count": 2,
   "metadata": {},
   "outputs": [],
   "source": [
    "#PATH=Path('/home/wk/myProjects/data/Enron/tag/')"
   ]
  },
  {
   "cell_type": "code",
   "execution_count": 3,
   "metadata": {},
   "outputs": [],
   "source": [
    "#[str(i) for i in PATH.iterdir()]\n",
    "#PATH/'here.txt'.open()"
   ]
  },
  {
   "cell_type": "code",
   "execution_count": 4,
   "metadata": {},
   "outputs": [
    {
     "data": {
      "text/plain": [
       "'message-id: <20945519.1075855715950.javamail.evans@thyme> date: tue, 6 mar 2001 02:55:00 -0800 (pst) from: phillip.allen@enron.com to: al.pollard@enron.com subject: re: ms 150 mime-version: 1.0 content-type: text/plain; charset=us-ascii content-transfer-encoding: 7bit x-from: phillip k allen x-to: al pollard x-cc: x-bcc: x-folder: \\\\phillip_allen_june2001\\\\notes folders\\\\sent x-origin: allen-p x-filename: pallen.nsf al, i was not going to do the ms this year. thanks for the offer though. all is well here. we went to colorado last week and the kids learned to ski. work is same as always. how are things going at new power? is there any potential? phillip'"
      ]
     },
     "execution_count": 4,
     "metadata": {},
     "output_type": "execute_result"
    }
   ],
   "source": [
    "### Test\n",
    "ss=r\"\"\"\n",
    "Message-ID: <20945519.1075855715950.JavaMail.evans@thyme>\n",
    "Date: Tue, 6 Mar 2001 02:55:00 -0800 (PST)\n",
    "From: phillip.allen@enron.com\n",
    "To: al.pollard@enron.com\n",
    "Subject: Re: MS 150\n",
    "Mime-Version: 1.0\n",
    "Content-Type: text/plain; charset=us-ascii\n",
    "Content-Transfer-Encoding: 7bit\n",
    "X-From: Phillip K Allen\n",
    "X-To: Al Pollard\n",
    "X-cc: \n",
    "X-bcc: \n",
    "X-Folder: \\Phillip_Allen_June2001\\Notes Folders\\Sent\n",
    "X-Origin: Allen-P\n",
    "X-FileName: pallen.nsf\n",
    "\n",
    "Al,\n",
    "\n",
    "I was not going to do the MS this year.  Thanks for the offer though.\n",
    "\n",
    "All is well here.  We went to Colorado last week and the kids learned to \n",
    "ski.  Work is same as always.\n",
    "How are things going at New Power?  Is there any potential?\n",
    "\n",
    "Phillip\n",
    "\n",
    "\n",
    "\n",
    "\"\"\"\n",
    "s = [TEXT.preprocess(ss)] \n",
    "t=TEXT.numericalize(s)\n",
    "' '.join(s[0])"
   ]
  },
  {
   "cell_type": "code",
   "execution_count": 5,
   "metadata": {},
   "outputs": [
    {
     "name": "stdout",
     "output_type": "stream",
     "text": [
      "pos=4; @@othr_dt@@ <- 6 \n",
      "pos=5; @@othr_tm@@ <- mar \n",
      "pos=11; @@email@@ <- phillip.allen@enron.com \n",
      "pos=13; @@othr_em@@ <- al.pollard@enron.com \n",
      "pos=26; @@firstname@@ <- phillip \n",
      "pos=27; @@lastname@@ <- k \n",
      "...\n"
     ]
    }
   ],
   "source": [
    "import copy\n",
    "ss = copy.deepcopy(s)\n",
    "s_p = [ss[0][0:3]]\n",
    "t=TEXT.numericalize(s)\n",
    "#t = t.long().cpu()\n",
    "\n",
    "m=learner.model\n",
    "\n",
    "m[0].bs=1\n",
    "m.eval()\n",
    "m.reset()\n",
    "\n",
    "#m.cpu()\n",
    "#m.cuda()\n",
    "res,*_ = m(t)\n",
    "\n",
    "nexts = torch.topk(res[-1], 10)[1]\n",
    "\n",
    "for i in range(len(s[0])-3):\n",
    "    n=res[-1].topk(2)[1]    \n",
    "    predict = TEXT.vocab.itos[n.data[0]]    \n",
    "    if (predict[0:2] == '@@'):\n",
    "        print(\"pos=\" + str(i+3) + \"; \" + predict + \" <- \" + s[0][i+3] , end=' \\n')                    \n",
    "        ss[0][i+3]=predict\n",
    "    \n",
    "    s_p = [ss[0][0:i+4]]\n",
    "    t=TEXT.numericalize(s_p)\n",
    "\n",
    "    res,*_ = m(t)    \n",
    "    \n",
    "m[0].bs=bs       \n",
    "print('...')"
   ]
  },
  {
   "cell_type": "code",
   "execution_count": 6,
   "metadata": {},
   "outputs": [
    {
     "data": {
      "text/plain": [
       "90"
      ]
     },
     "execution_count": 6,
     "metadata": {},
     "output_type": "execute_result"
    }
   ],
   "source": [
    "#https://askubuntu.com/questions/607118/cuda-not-working-after-returning-laptop-from-sleep#750939\n",
    "len(s[0])"
   ]
  },
  {
   "cell_type": "code",
   "execution_count": 7,
   "metadata": {},
   "outputs": [],
   "source": [
    "#sudo rmmod nvidia_uvm\n",
    "#sudo modprobe nvidia_uvm"
   ]
  },
  {
   "cell_type": "code",
   "execution_count": 8,
   "metadata": {},
   "outputs": [],
   "source": [
    "#t.long().cpu()"
   ]
  },
  {
   "cell_type": "code",
   "execution_count": null,
   "metadata": {},
   "outputs": [],
   "source": []
  },
  {
   "cell_type": "code",
   "execution_count": null,
   "metadata": {},
   "outputs": [],
   "source": []
  }
 ],
 "metadata": {
  "kernelspec": {
   "display_name": "Python 3",
   "language": "python",
   "name": "python3"
  },
  "language_info": {
   "codemirror_mode": {
    "name": "ipython",
    "version": 3
   },
   "file_extension": ".py",
   "mimetype": "text/x-python",
   "name": "python",
   "nbconvert_exporter": "python",
   "pygments_lexer": "ipython3",
   "version": "3.6.7"
  }
 },
 "nbformat": 4,
 "nbformat_minor": 2
}
