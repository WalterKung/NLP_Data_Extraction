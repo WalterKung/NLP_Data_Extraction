{
 "cells": [
  {
   "cell_type": "code",
   "execution_count": 1,
   "metadata": {},
   "outputs": [],
   "source": [
    "%reload_ext autoreload\n",
    "%autoreload 2\n",
    "%matplotlib inline\n",
    "\n",
    "from fastai.learner import *\n",
    "\n",
    "import torchtext\n",
    "from torchtext import vocab, data\n",
    "from torchtext.datasets import language_modeling\n",
    "\n",
    "from fastai.rnn_reg import *\n",
    "from fastai.rnn_train import *\n",
    "from fastai.nlp import *\n",
    "from fastai.lm_rnn import *\n",
    "\n",
    "import dill as pickle\n",
    "import spacy\n",
    "\n",
    "\n",
    "PATH='/home/wk/myProjects/data/Enron/tag/'\n",
    "\n",
    "TRN_PATH = 'train/'\n",
    "VAL_PATH = 'test/'\n",
    "TRN = f'{PATH}{TRN_PATH}'\n",
    "VAL = f'{PATH}{VAL_PATH}'\n",
    "\n",
    "bs=32; bptt=500\n",
    "em_sz = 300  # size of each embedding vector\n",
    "nh = 500     # number of hidden activations per layer\n",
    "nl = 3       # number of layers\n",
    "\n",
    "FILES = dict(train=TRN_PATH, validation=VAL_PATH, test=VAL_PATH)\n",
    "TEXT = pickle.load(open(f'{PATH}models/TEXT.pkl','rb'))\n",
    "opt_fn = partial(optim.Adam, betas=(0.7, 0.99))"
   ]
  },
  {
   "cell_type": "code",
   "execution_count": 2,
   "metadata": {},
   "outputs": [],
   "source": [
    "class EmailDataset(torchtext.data.Dataset):\n",
    "    def __init__(self, path, text_field, label_field, **kwargs):\n",
    "        fields = [('text', text_field), ('label', label_field)]\n",
    "        examples = []\n",
    "        for label in ['deleted_items', 'sent']:\n",
    "            fnames = glob(os.path.join(path, label, '*.txt'));\n",
    "            print(path)\n",
    "            assert fnames, f\"can't find 'yes.txt' or 'no.txt' under {path}/{label}\"\n",
    "            for fname in fnames:\n",
    "#                with open(fname, 'r') as f: text = f.readline()\n",
    "                with open(fname, 'r') as myfile:\n",
    "                    text=myfile.read().replace('\\n', ' ')\n",
    "                examples.append(data.Example.fromlist([text, label], fields))\n",
    "        super().__init__(examples, fields, **kwargs)\n",
    "\n",
    "    @staticmethod\n",
    "    def sort_key(ex): return len(ex.text)\n",
    "    \n",
    "    @classmethod\n",
    "    def splits(cls, text_field, label_field, root='.data',\n",
    "               train='train', test='test', **kwargs):\n",
    "        return super().splits(\n",
    "            root, text_field=text_field, label_field=label_field,\n",
    "            train=train, validation=None, test=test, **kwargs)"
   ]
  },
  {
   "cell_type": "code",
   "execution_count": 3,
   "metadata": {},
   "outputs": [
    {
     "name": "stdout",
     "output_type": "stream",
     "text": [
      "/home/wk/myProjects/data/Enron/tag/train\n",
      "/home/wk/myProjects/data/Enron/tag/train\n",
      "/home/wk/myProjects/data/Enron/tag/test\n",
      "/home/wk/myProjects/data/Enron/tag/test\n"
     ]
    }
   ],
   "source": [
    "EMAIL_LABEL = data.Field(sequential=False)\n",
    "splits = EmailDataset.splits(TEXT, EMAIL_LABEL, PATH, train=\"train\", test =\"test\")"
   ]
  },
  {
   "cell_type": "code",
   "execution_count": 4,
   "metadata": {},
   "outputs": [],
   "source": [
    "md2 = TextData.from_splits(PATH, splits, bs)"
   ]
  },
  {
   "cell_type": "code",
   "execution_count": 5,
   "metadata": {},
   "outputs": [
    {
     "data": {
      "text/plain": [
       "('deleted_items',\n",
       " 'what happened to you at cat\"s? we could not find you. ckl -----original message----- from: @@sndr_email@@ sent: monday, october 22, 2001 10:59 am to: @@recr_email1@@ subject: re: thestreet: trusts keeping enron off balance this is unbelievable. seems like the worst is yet to come. if they have to end up issuing more stock this thing can go to $10. -----original message----- from: @@recr_email1@@ sent: monday, october 22, 2001 10:27 am to: @@sndr_email@@ ; bass, eric; plauche, stephen subject: fw: thestreet: trusts keeping enron off balance hey plauch, still think it is impossible for this stock to take on a one-handle. just read below. ckl -----original message----- from: @@sndr_email@@ sent: monday, october 22, 2001 8:33 am to: @@recr_email1@@ subject: thestreet: trusts keeping enron off balance << file: trusts keeping enron off balance.htm >>')"
      ]
     },
     "execution_count": 5,
     "metadata": {},
     "output_type": "execute_result"
    }
   ],
   "source": [
    "t = splits[0].examples[1480]\n",
    "t.label, ' '.join(t.text)"
   ]
  },
  {
   "cell_type": "code",
   "execution_count": 6,
   "metadata": {},
   "outputs": [
    {
     "data": {
      "text/plain": [
       "('sent',\n",
       " 'i\\'ve heard that the turbines are supposed to be moved out of westlb today. the contract with ge is not quite finished, although it is close. kay ---------------------- forwarded by kay mann/corp/enron on @@othr_dt@@ 08:54 am --------------------------- enron global finance from: @@sndr_email@@ :44 am to: @@recr_email1@@ @@recr_email2@@ @@recr_email3@@ : subject: austin project purchase option ---------------------- forwarded by catherine clark/hou/ect on @@othr_dt@@ 08:45 am --------------------------- \"taylor, rob\" < @@othr_em@@ > on @@othr_dt@@ 12:55:59 pm to: @@recr_email1@@ @@recr_email2@@ @@recr_email3@@ : subject: austin project purchase option attached is a revised draft of the purchase option assignment and assumption agreement for the lm6000s to be used in the austin project. the attached reflects the comments of winston & strawn. also attached is an execution copy of the agreement. serial numbers and other identifying information should be inserted on schedule 1 to the agreement prior to execution. please call me if you have any questions or comments. regards, rob taylor andrews & kurth l.l.p. 600 travis street suite 4200 houston, texas 77002 tel: @@othr_ph@@ fax: @@othr_ph@@ e-mail: @@othr_em@@ this e-mail is privileged and confidential and is intended only for the recipient(s) named above. if you are not the intended recipient, please (i) do not read, copy, use or disclose the contents hereof to others (any of the foregoing being strictly prohibited), (ii) notify the sender immediately of your receipt hereof, and (iii) delete this e-mail and all copies of it. <<purchase option assignment/assumption.doc>> <<po (austin) - compare.doc>> - assumption.doc - po (austin) - compare.doc')"
      ]
     },
     "execution_count": 6,
     "metadata": {},
     "output_type": "execute_result"
    }
   ],
   "source": [
    "t = splits[0].examples[39200]\n",
    "t.label, ' '.join(t.text)"
   ]
  },
  {
   "cell_type": "code",
   "execution_count": 7,
   "metadata": {},
   "outputs": [],
   "source": [
    "m3 = md2.get_model(opt_fn, 1500, bptt, emb_sz=em_sz, n_hid=nh, n_layers=nl, \n",
    "           dropout=0.1, dropouti=0.4, wdrop=0.5, dropoute=0.05, dropouth=0.3)\n",
    "m3.reg_fn = partial(seq2seq_reg, alpha=2, beta=1)\n",
    "m3.load_encoder(f'adam3_10_enc')"
   ]
  },
  {
   "cell_type": "code",
   "execution_count": 8,
   "metadata": {},
   "outputs": [],
   "source": [
    "m3.clip=25.\n",
    "lrs=np.array([1e-4,1e-4,1e-4,1e-3,1e-2])"
   ]
  },
  {
   "cell_type": "code",
   "execution_count": 9,
   "metadata": {},
   "outputs": [
    {
     "data": {
      "application/vnd.jupyter.widget-view+json": {
       "model_id": "44f9134d21cc467aba18f23aec2e447b",
       "version_major": 2,
       "version_minor": 0
      },
      "text/plain": [
       "HBox(children=(IntProgress(value=0, description='Epoch', max=1), HTML(value='')))"
      ]
     },
     "metadata": {},
     "output_type": "display_data"
    },
    {
     "name": "stdout",
     "output_type": "stream",
     "text": [
      "epoch      trn_loss   val_loss   accuracy                      \n",
      "    0      0.665167   0.757712   0.531123  \n",
      "\n"
     ]
    },
    {
     "data": {
      "application/vnd.jupyter.widget-view+json": {
       "model_id": "bdde32746fbf438382456f4f29040c11",
       "version_major": 2,
       "version_minor": 0
      },
      "text/plain": [
       "HBox(children=(IntProgress(value=0, description='Epoch', max=1), HTML(value='')))"
      ]
     },
     "metadata": {},
     "output_type": "display_data"
    },
    {
     "name": "stdout",
     "output_type": "stream",
     "text": [
      "epoch      trn_loss   val_loss   accuracy                      \n",
      "    0      0.526882   0.573084   0.572593  \n",
      "\n"
     ]
    },
    {
     "data": {
      "text/plain": [
       "[array([0.57308]), 0.5725932383262583]"
      ]
     },
     "execution_count": 9,
     "metadata": {},
     "output_type": "execute_result"
    }
   ],
   "source": [
    "m3.freeze_to(-1)\n",
    "m3.fit(lrs, 1, metrics=[accuracy])\n",
    "m3.unfreeze()\n",
    "m3.fit(lrs*2, 1, metrics=[accuracy], cycle_len=1)"
   ]
  },
  {
   "cell_type": "code",
   "execution_count": 10,
   "metadata": {},
   "outputs": [
    {
     "data": {
      "application/vnd.jupyter.widget-view+json": {
       "model_id": "3b2cc5e65eff455abd24f42a25887a0e",
       "version_major": 2,
       "version_minor": 0
      },
      "text/plain": [
       "HBox(children=(IntProgress(value=0, description='Epoch', max=8), HTML(value='')))"
      ]
     },
     "metadata": {},
     "output_type": "display_data"
    },
    {
     "name": "stdout",
     "output_type": "stream",
     "text": [
      "epoch      trn_loss   val_loss   accuracy                      \n",
      "    0      0.329249   0.123595   0.968644  \n",
      "    1      0.279512   0.263209   0.959642                      \n",
      "    2      0.29833    0.092091   0.977908                      \n",
      "    3      0.284962   0.082588   0.977989                      \n",
      "    4      0.290142   0.111513   0.973378                      \n",
      "    5      0.253702   0.092737   0.973733                      \n",
      "    6      0.267484   0.150458   0.974341                      \n",
      "    7      0.234196   0.07471    0.98029                       \n",
      "\n"
     ]
    },
    {
     "data": {
      "text/plain": [
       "[array([0.07471]), 0.9802902733258252]"
      ]
     },
     "execution_count": 10,
     "metadata": {},
     "output_type": "execute_result"
    }
   ],
   "source": [
    "m3.fit(lrs*1.5, 4, metrics=[accuracy], cycle_len=2, cycle_save_name='enron_cls')"
   ]
  },
  {
   "cell_type": "code",
   "execution_count": 19,
   "metadata": {},
   "outputs": [],
   "source": [
    "m3.load_cycle('enron_cls', 3)"
   ]
  },
  {
   "cell_type": "code",
   "execution_count": 20,
   "metadata": {},
   "outputs": [
    {
     "data": {
      "text/plain": [
       "0.9148366363149437"
      ]
     },
     "execution_count": 20,
     "metadata": {},
     "output_type": "execute_result"
    }
   ],
   "source": [
    "accuracy_np(*m3.predict_with_targs())"
   ]
  },
  {
   "cell_type": "code",
   "execution_count": 16,
   "metadata": {},
   "outputs": [],
   "source": [
    "??m3"
   ]
  },
  {
   "cell_type": "code",
   "execution_count": 21,
   "metadata": {},
   "outputs": [],
   "source": [
    "??m3.predict_with_targs"
   ]
  },
  {
   "cell_type": "code",
   "execution_count": 22,
   "metadata": {},
   "outputs": [],
   "source": [
    "a=m3.predict_with_targs()"
   ]
  },
  {
   "cell_type": "code",
   "execution_count": 26,
   "metadata": {},
   "outputs": [
    {
     "data": {
      "text/plain": [
       "7468"
      ]
     },
     "execution_count": 26,
     "metadata": {},
     "output_type": "execute_result"
    }
   ],
   "source": [
    "len(a[1])"
   ]
  },
  {
   "cell_type": "code",
   "execution_count": null,
   "metadata": {},
   "outputs": [],
   "source": []
  }
 ],
 "metadata": {
  "kernelspec": {
   "display_name": "Python 3",
   "language": "python",
   "name": "python3"
  },
  "language_info": {
   "codemirror_mode": {
    "name": "ipython",
    "version": 3
   },
   "file_extension": ".py",
   "mimetype": "text/x-python",
   "name": "python",
   "nbconvert_exporter": "python",
   "pygments_lexer": "ipython3",
   "version": "3.6.7"
  }
 },
 "nbformat": 4,
 "nbformat_minor": 2
}
