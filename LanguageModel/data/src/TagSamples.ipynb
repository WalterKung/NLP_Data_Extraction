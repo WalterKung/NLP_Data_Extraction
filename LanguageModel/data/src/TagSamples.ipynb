{
 "cells": [
  {
   "cell_type": "markdown",
   "metadata": {},
   "source": [
    "### Reformat Enron Dataset as train and test\n",
    "##### 10% test, 90% train"
   ]
  },
  {
   "cell_type": "code",
   "execution_count": 1,
   "metadata": {},
   "outputs": [],
   "source": [
    "import shutil\n",
    "import os\n",
    "import re\n",
    "from random import randint\n",
    "\n",
    "def assure_path_exists(path):\n",
    "        dir = os.path.dirname(path)\n",
    "        if not os.path.exists(dir):\n",
    "                os.makedirs(dir)\n",
    "\n",
    "def copyf(source, destination, depth=None):\n",
    "    if not depth:\n",
    "        depth = \"\"\n",
    "    for file_or_dir in os.listdir(os.path.join(source + depth)):\n",
    "        if os.path.isfile(os.path.join(source + depth, file_or_dir)):\n",
    "#            print(\"cp \" + os.path.join(source + depth, file_or_dir) + \" \" + destination)\n",
    "            buf = depth.split(\"/\")[-2:]\n",
    "            fn = re.sub('[^0-9a-zA-Z]+', '_', \"_\".join(buf)) + '_' + file_or_dir + 'txt'\n",
    "            if randint(0,99) > 50:\n",
    "                if randint(0,99) > 85:\n",
    "                    dest = os.path.join(destination, \"test\")\n",
    "                else:\n",
    "                    dest = os.path.join(destination, \"train\")                                                    \n",
    "                if (buf[1] == \"sent\" or buf[1] == \"deleted_items\"):\n",
    "                    dest_p = dest + \"/\" + buf[1] + \"/\"\n",
    "                    assure_path_exists(dest_p)\n",
    "                    shutil.copyfile(os.path.join(source + depth, file_or_dir), os.path.join(dest_p, fn))\n",
    "        else:\n",
    "            copyf('', destination, os.path.join(source + depth, file_or_dir))"
   ]
  },
  {
   "cell_type": "code",
   "execution_count": 2,
   "metadata": {},
   "outputs": [],
   "source": [
    "source = \"/home/wk/myProjects/data/maildir\"\n",
    "destination = \"/home/wk/myProjects/data/Enron\"\n",
    "#copyf(source, destination, depth=None)"
   ]
  },
  {
   "cell_type": "code",
   "execution_count": 3,
   "metadata": {},
   "outputs": [
    {
     "name": "stdout",
     "output_type": "stream",
     "text": [
      "Enron_name_lookup.csv  \u001b[0m\u001b[01;34mmodels\u001b[0m/  \u001b[01;34moper\u001b[0m/  \u001b[01;34msrc\u001b[0m/  \u001b[01;34mtag\u001b[0m/  \u001b[01;34mtest\u001b[0m/  \u001b[01;34mtmp\u001b[0m/  \u001b[01;34mtrain\u001b[0m/\r\n"
     ]
    }
   ],
   "source": [
    "PATH='/home/wk/myProjects/data/Enron/'\n",
    "\n",
    "TRN_PATH = 'train/'\n",
    "VAL_PATH = 'test/'\n",
    "TRN = f'{PATH}{TRN_PATH}'\n",
    "VAL = f'{PATH}{VAL_PATH}'\n",
    "\n",
    "%ls {PATH}"
   ]
  },
  {
   "cell_type": "code",
   "execution_count": 4,
   "metadata": {},
   "outputs": [
    {
     "data": {
      "text/plain": [
       "[]"
      ]
     },
     "execution_count": 4,
     "metadata": {},
     "output_type": "execute_result"
    }
   ],
   "source": [
    "fname = !ls {TRN}\n",
    "#trn_files = !dir /w {TRN}\n",
    "fname[7:17]"
   ]
  },
  {
   "cell_type": "markdown",
   "metadata": {},
   "source": [
    "#### Search and Replace"
   ]
  },
  {
   "cell_type": "code",
   "execution_count": 5,
   "metadata": {},
   "outputs": [],
   "source": [
    "def tag_by_meta_data(ss):\n",
    "    e = ss.replace(\"\\t\", \"\").split(\"\\n\")\n",
    "    d = [ee.split(':') for ee in e]\n",
    "    tdoc = ss\n",
    "    ToList = []\n",
    "    iscapture = False\n",
    "    for e in d[:30]:\n",
    "        if e[0] == 'Message-ID':\n",
    "            if e[1].strip() != \"\":\n",
    "                tdoc = tdoc.replace(e[1].strip(), \" @@MES_ID@@ \")\n",
    "            continue\n",
    "        if e[0] == 'From':\n",
    "            if e[1].strip() != \"\":\n",
    "                tdoc = tdoc.replace(e[1].strip(), \" @@SNDR_EMAIL@@ \") \n",
    "            continue\n",
    "        if e[0] == 'To':\n",
    "            ToList = [a.strip() for a in e[1:]]\n",
    "            iscapture = True\n",
    "            continue\n",
    "        if e[0] == 'Subject':\n",
    "            iscapture = False\n",
    "            i = 0\n",
    "            for g in ToList:\n",
    "                i = i + 1\n",
    "                if i > 2:\n",
    "                    i = 3\n",
    "                if g.strip() != \"\":\n",
    "                    tdoc = tdoc.replace(g.strip(), \" @@RECR_EMAIL\" + str(i) + \"@@ \")       \n",
    "            continue\n",
    "        if iscapture:\n",
    "            ToList = ToList + [a.strip() for a in e]     \n",
    "        if e[0] == 'X-From':        \n",
    "            gg = e[1].strip().split(\" \")\n",
    "            if len(gg) == 1:\n",
    "                if e[1].strip() != \"\":\n",
    "                    tdoc = tdoc.replace(e[1].strip(), \" @SNDR_FN@@ \")\n",
    "            if len(gg) == 2:\n",
    "                if e[1].strip() != \"\":\n",
    "                    tdoc = tdoc.replace(e[1].strip(), \" @@SNDR_FN@@ @@SNDR_LN@@ \")\n",
    "            if len(gg) > 2:\n",
    "                if e[1].strip() != \"\":\n",
    "                    tdoc = tdoc.replace(e[1].strip(), \" @@SNDR_FN@@ @@SNDR_MN@@ @@SNDR_LN@@ \")                    \n",
    "            if gg[0].strip() != \"\":\n",
    "                tdoc = tdoc.replace(gg[0].strip(), \" @@SNDR_FN@@\")\n",
    "            if len(gg) > 1:\n",
    "                if gg[len(gg)-1].strip() != \"\":                \n",
    "                    tdoc = tdoc.replace(gg[len(gg)-1].strip(), \" @@SNDR_LN@@ \")\n",
    "\n",
    "        if e[0] == 'X-To':\n",
    "            kk = e[1].strip().split(\",\") \n",
    "            i = 0\n",
    "            for kkk in kk:\n",
    "                i = i + 1\n",
    "                if i > 2:\n",
    "                    i = 3\n",
    "                kkkk = kkk.strip().split(\" \")            \n",
    "                if len(kkkk) == 1:\n",
    "                    if kkk.strip() != \"\":\n",
    "                        tdoc = tdoc.replace(kkk.strip(), \" @@RCVR_\" + str(i) + \"FN@@ \")\n",
    "                if len(kkkk) == 2:\n",
    "                    if kkk.strip() != \"\":\n",
    "                        tdoc = tdoc.replace(kkk.strip(), \" @@RCVR_\" + str(i) + \"FN@@ @@RCVR_\" + str(i) + \"LN@@ \")\n",
    "                if len(kkkk) > 2:\n",
    "                    if kkk.strip() != \"\":\n",
    "                        tdoc = tdoc.replace(kkk.strip(), \" @@RCVR_\" + str(i) + \"FN@@ @@RCVR_\" + str(i) + \"MN@@ @@RCVR_\" + str(i) + \"LN@@ \")\n",
    "                if kkkk[0].strip() != \"\":\n",
    "                    tdoc = tdoc.replace(kkkk[0].strip(), \" @@RCVR_\" + str(i) + \"FN@@ \")\n",
    "                if len(kkkk) > 1:\n",
    "                    if kkkk[len(kkkk)-1].strip() != \"\":\n",
    "                        tdoc = tdoc.replace(kkkk[len(kkkk)-1].strip(), \" @@RCVR_\" + str(i) + \"LN@@ \")\n",
    "    return(tdoc)\n",
    "\n"
   ]
  },
  {
   "cell_type": "code",
   "execution_count": 6,
   "metadata": {},
   "outputs": [],
   "source": [
    "import re\n",
    "def search_and_replace_regex_in_file(fn_in, fn_out):\n",
    "    # Read in the file\n",
    "    with open(fn_in, 'r', errors=\"ignore\") as file :\n",
    "        line = file.read().replace(\".nsf\", \"~\").replace(\".NSF\", \"~\").replace(\".PST\", \"~\").replace(\".pst\", \"~\").split(\"~\")[1]        \n",
    "#        line = file.read()\n",
    "        line = tag_by_meta_data(line)     \n",
    "        line = re.sub(\n",
    "                   r\"\"\"(?:[a-z0-9!#$%&'*+/=?^_`{|}~-]+(?:\\.[a-z0-9!#$%&'*+/=?^_`{|}~-]+)*|\"(?:[\\x01-\\x08\\x0b\\x0c\\x0e-\\x1f\\x21\\x23-\\x5b\\x5d-\\x7f]|\\\\[\\x01-\\x09\\x0b\\x0c\\x0e-\\x7f])*\")@(?:(?:[a-z0-9](?:[a-z0-9-]*[a-z0-9])?\\.)+[a-z0-9](?:[a-z0-9-]*[a-z0-9])?|\\[(?:(?:25[0-5]|2[0-4][0-9]|[01]?[0-9][0-9]?)\\.){3}(?:25[0-5]|2[0-4][0-9]|[01]?[0-9][0-9]?|[a-z0-9-]*[a-z0-9]:(?:[\\x01-\\x08\\x0b\\x0c\\x0e-\\x1f\\x21-\\x5a\\x53-\\x7f]|\\\\[\\x01-\\x09\\x0b\\x0c\\x0e-\\x7f])+)\\])\"\"\", \n",
    "                   \" @@othr_em@@ \", \n",
    "                   line \n",
    "               )\n",
    "        line = re.sub(\n",
    "                   r\"\"\"(\\d{3}[-\\.\\s]??\\d{3}[-\\.\\s]??\\d{4}|\\(\\d{3}\\)\\s*\\d{3}[-\\.\\s]??\\d{4}|\\d{3}[-\\.\\s]??\\d{4})\"\"\", \n",
    "                   \" @@othr_ph@@ \", \n",
    "                   line\n",
    "               )\n",
    "        line = re.sub(\n",
    "                   r\"\"\"(?i)\\b((?:[a-z][\\w-]+:(?:/{1,3}|[a-z0-9%])|www\\d{0,3}[.]|[a-z0-9.\\-]+[.][a-z]{2,4}/)(?:[^\\s()<>]+|\\(([^\\s()<>]+|(\\([^\\s()<>]+\\)))*\\))+(?:\\(([^\\s()<>]+|(\\([^\\s()<>]+\\)))*\\)|[^\\s`!()\\[\\]{};:'\".,<>?«»“”‘’]))\"\"\", \n",
    "                   \" @@othr_ws@@ \", \n",
    "                   line\n",
    "               )\n",
    "        line = re.sub(\n",
    "                   r\"\"\"\\d{1,2}[/-]\\d{1,2}[/-]\\d{2,4}\"\"\", \n",
    "                   \" @@othr_dt@@ \", \n",
    "                   line\n",
    "               )\n",
    "        line = re.sub(\n",
    "                   r\"\"\"\\d{1,} (?:Jan|Feb|Mar|Apr|May|Jun|Jul|Aug|Sep|Oct|Nov|Dec)[a-z]* \\d{4}\"\"\", \n",
    "                   \" @@othr_dt@@ @@othr_dt@@ @@othr_dt@@\", \n",
    "                   line\n",
    "               )\n",
    "    with open(fn_out, 'w') as file:\n",
    "        file.write(line)"
   ]
  },
  {
   "cell_type": "code",
   "execution_count": 7,
   "metadata": {},
   "outputs": [],
   "source": [
    "#### Replace with tag for training set\n",
    "dir_in = \"/home/wk/myProjects/data/Enron/train/sent/\"\n",
    "dir_out = \"/home/wk/myProjects/data/Enron/tag/train/sent/\"\n",
    "assure_path_exists(dir_out)\n",
    "fname = !ls {dir_in}\n",
    "fname[7:17]\n",
    "for fn in fname:  \n",
    "    try:\n",
    "        search_and_replace_regex_in_file(dir_in + fn, dir_out + fn)\n",
    "    except:\n",
    "        pass"
   ]
  },
  {
   "cell_type": "code",
   "execution_count": 8,
   "metadata": {},
   "outputs": [],
   "source": [
    "dir_in = \"/home/wk/myProjects/data/Enron/train/deleted_items/\"\n",
    "dir_out = \"/home/wk/myProjects/data/Enron/tag/train/deleted_items/\"\n",
    "assure_path_exists(dir_out)\n",
    "fname = !ls {dir_in}\n",
    "fname[7:17]\n",
    "for fn in fname:  \n",
    "    try:\n",
    "        search_and_replace_regex_in_file(dir_in + fn, dir_out + fn)\n",
    "    except:\n",
    "        pass"
   ]
  },
  {
   "cell_type": "code",
   "execution_count": 9,
   "metadata": {},
   "outputs": [
    {
     "data": {
      "text/plain": [
       "'/home/wk/myProjects/data/Enron/train/deleted_items/zufferli_j_deleted_items_95.txt'"
      ]
     },
     "execution_count": 9,
     "metadata": {},
     "output_type": "execute_result"
    }
   ],
   "source": [
    "dir_in + fn"
   ]
  },
  {
   "cell_type": "code",
   "execution_count": 10,
   "metadata": {},
   "outputs": [],
   "source": [
    "dir_in = \"/home/wk/myProjects/data/Enron/test/sent/\"\n",
    "dir_out = \"/home/wk/myProjects/data/Enron/tag/test/sent/\"\n",
    "assure_path_exists(dir_out)\n",
    "fname = !ls {dir_in}\n",
    "fname[7:17]\n",
    "for fn in fname:  \n",
    "    try:\n",
    "        search_and_replace_regex_in_file(dir_in + fn, dir_out + fn)\n",
    "    except:\n",
    "        pass"
   ]
  },
  {
   "cell_type": "code",
   "execution_count": 11,
   "metadata": {},
   "outputs": [],
   "source": [
    "dir_in = \"/home/wk/myProjects/data/Enron/test/deleted_items/\"\n",
    "dir_out = \"/home/wk/myProjects/data/Enron/tag/test/deleted_items/\"\n",
    "assure_path_exists(dir_out)\n",
    "fname = !ls {dir_in}\n",
    "fname[7:17]\n",
    "for fn in fname:  \n",
    "    try:\n",
    "        search_and_replace_regex_in_file(dir_in + fn, dir_out + fn)\n",
    "    except:\n",
    "        pass"
   ]
  },
  {
   "cell_type": "code",
   "execution_count": 12,
   "metadata": {},
   "outputs": [
    {
     "data": {
      "text/plain": [
       "\"\\nMessage-ID:  @@MES_ID@@ \\nDate: Wed, 6 Dec 2000 04:43:00 -0800 (PST)\\nFrom:  @@SNDR_EMAIL@@ \\nTo:  @@RECR_EMAIL1@@ \\nSubject: Re: Associates & Analysts Eligible for Promotion\\nMime-Version: 1.0\\nContent-Type: text/plain; charset=us-ascii\\nContent-Transfer-Encoding: 7bit\\nX-From:  @@SNDR_FN@@ @@SNDR_MN@@ @@SNDR_LN@@ \\nX-To:  @@RCVR_1FN@@ @@RCVR_1LN@@ \\nX-cc: \\nX-bcc: \\nX-Folder: \\\\ @@SNDR_FN@@_ @@SNDR_LN@@ _Dec2000\\\\Notes Folders\\\\Sent\\nX-Origin:  @@SNDR_LN@@ -P\\nX-FileName: pallen.nsf\\n\\nI would support Matt Lenhart's promotion to the next level.\\n\\nI would oppose Ken Shulklapper's promotion.\\n\""
      ]
     },
     "execution_count": 12,
     "metadata": {},
     "output_type": "execute_result"
    }
   ],
   "source": [
    "ss = r'''\n",
    "Message-ID: <5361157.1075855679939.JavaMail.evans@thyme>\n",
    "Date: Wed, 6 Dec 2000 04:43:00 -0800 (PST)\n",
    "From: phillip.allen@enron.com\n",
    "To: andrea.richards@enron.com\n",
    "Subject: Re: Associates & Analysts Eligible for Promotion\n",
    "Mime-Version: 1.0\n",
    "Content-Type: text/plain; charset=us-ascii\n",
    "Content-Transfer-Encoding: 7bit\n",
    "X-From: Phillip K Allen\n",
    "X-To: Andrea Richards\n",
    "X-cc: \n",
    "X-bcc: \n",
    "X-Folder: \\Phillip_Allen_Dec2000\\Notes Folders\\Sent\n",
    "X-Origin: Allen-P\n",
    "X-FileName: pallen.nsf\n",
    "\n",
    "I would support Matt Lenhart's promotion to the next level.\n",
    "\n",
    "I would oppose Ken Shulklapper's promotion.\n",
    "'''\n",
    "tag_by_meta_data(ss)"
   ]
  },
  {
   "cell_type": "code",
   "execution_count": 13,
   "metadata": {},
   "outputs": [],
   "source": [
    "line = ss\n",
    "line = tag_by_meta_data(line)\n",
    "#line = re.sub(\n",
    "#           r\"\"\"(<\\d*.\\d*.\\w*.*@*>)\"\"\", \n",
    "#           \" @@othr_mailsvr@@ \", \n",
    "#           line\n",
    "#       )        \n",
    "line = re.sub(\n",
    "           r\"\"\"(?:[a-z0-9!#$%&'*+/=?^_`{|}~-]+(?:\\.[a-z0-9!#$%&'*+/=?^_`{|}~-]+)*|\"(?:[\\x01-\\x08\\x0b\\x0c\\x0e-\\x1f\\x21\\x23-\\x5b\\x5d-\\x7f]|\\\\[\\x01-\\x09\\x0b\\x0c\\x0e-\\x7f])*\")@(?:(?:[a-z0-9](?:[a-z0-9-]*[a-z0-9])?\\.)+[a-z0-9](?:[a-z0-9-]*[a-z0-9])?|\\[(?:(?:25[0-5]|2[0-4][0-9]|[01]?[0-9][0-9]?)\\.){3}(?:25[0-5]|2[0-4][0-9]|[01]?[0-9][0-9]?|[a-z0-9-]*[a-z0-9]:(?:[\\x01-\\x08\\x0b\\x0c\\x0e-\\x1f\\x21-\\x5a\\x53-\\x7f]|\\\\[\\x01-\\x09\\x0b\\x0c\\x0e-\\x7f])+)\\])\"\"\", \n",
    "           \" @@othr_em@@ \", \n",
    "           line \n",
    "       )\n",
    "line = re.sub(\n",
    "           r\"\"\"(\\d{3}[-\\.\\s]??\\d{3}[-\\.\\s]??\\d{4}|\\(\\d{3}\\)\\s*\\d{3}[-\\.\\s]??\\d{4}|\\d{3}[-\\.\\s]??\\d{4})\"\"\", \n",
    "           \" @@othr_ph@@ \", \n",
    "           line\n",
    "       )\n",
    "line = re.sub(\n",
    "           r\"\"\"(?i)\\b((?:[a-z][\\w-]+:(?:/{1,3}|[a-z0-9%])|www\\d{0,3}[.]|[a-z0-9.\\-]+[.][a-z]{2,4}/)(?:[^\\s()<>]+|\\(([^\\s()<>]+|(\\([^\\s()<>]+\\)))*\\))+(?:\\(([^\\s()<>]+|(\\([^\\s()<>]+\\)))*\\)|[^\\s`!()\\[\\]{};:'\".,<>?«»“”‘’]))\"\"\", \n",
    "           \" @@othr_ws@@ \", \n",
    "           line\n",
    "       )\n",
    "line = re.sub(\n",
    "           r\"\"\"\\d{1,2}[/-]\\d{1,2}[/-]\\d{2,4}\"\"\", \n",
    "           \" @@othr_dt@@ \", \n",
    "           line\n",
    "       )\n",
    "line = re.sub(\n",
    "           r\"\"\"\\d{1,} (?:Jan|Feb|Mar|Apr|May|Jun|Jul|Aug|Sep|Oct|Nov|Dec)[a-z]* \\d{4}\"\"\", \n",
    "           \" @@othr_dt@@ \", \n",
    "           line\n",
    "       )"
   ]
  },
  {
   "cell_type": "code",
   "execution_count": 14,
   "metadata": {},
   "outputs": [
    {
     "data": {
      "text/plain": [
       "\"\\nMessage-ID:  @@MES_ID@@ \\nDate: Wed,  @@othr_dt@@  04:43:00 -0800 (PST)\\nFrom:  @@SNDR_EMAIL@@ \\nTo:  @@RECR_EMAIL1@@ \\nSubject: Re: Associates & Analysts Eligible for Promotion\\nMime-Version: 1.0\\nContent-Type: text/plain; charset=us-ascii\\nContent-Transfer-Encoding: 7bit\\nX-From:  @@SNDR_FN@@ @@SNDR_MN@@ @@SNDR_LN@@ \\nX-To:  @@RCVR_1FN@@ @@RCVR_1LN@@ \\nX-cc: \\nX-bcc: \\nX-Folder: \\\\ @@SNDR_FN@@_ @@SNDR_LN@@ _Dec2000\\\\Notes Folders\\\\Sent\\nX-Origin:  @@SNDR_LN@@ -P\\nX-FileName: pallen.nsf\\n\\nI would support Matt Lenhart's promotion to the next level.\\n\\nI would oppose Ken Shulklapper's promotion.\\n\""
      ]
     },
     "execution_count": 14,
     "metadata": {},
     "output_type": "execute_result"
    }
   ],
   "source": [
    "line"
   ]
  },
  {
   "cell_type": "code",
   "execution_count": null,
   "metadata": {},
   "outputs": [],
   "source": []
  }
 ],
 "metadata": {
  "kernelspec": {
   "display_name": "Python 3",
   "language": "python",
   "name": "python3"
  },
  "language_info": {
   "codemirror_mode": {
    "name": "ipython",
    "version": 3
   },
   "file_extension": ".py",
   "mimetype": "text/x-python",
   "name": "python",
   "nbconvert_exporter": "python",
   "pygments_lexer": "ipython3",
   "version": "3.6.7"
  }
 },
 "nbformat": 4,
 "nbformat_minor": 2
}
